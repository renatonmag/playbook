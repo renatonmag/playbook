{
 "cells": [
  {
   "cell_type": "code",
   "execution_count": 27,
   "id": "57837db7",
   "metadata": {},
   "outputs": [
    {
     "name": "stdout",
     "output_type": "stream",
     "text": [
      "[{\n",
      "  \"textBlock\": \"O trade ocorre depois que a barra fechar fora do range.\",\n",
      "  \"galeryId\": 1\n",
      "},{\n",
      "  \"textBlock\": \"O range começa quando a máxima da barra anterior for maior que a barra atual (ex: barra 1). A barra 3 forma o segundo ponto do range, o de venda.\",\n",
      "  \"galeryId\": 2\n",
      "},{\n",
      "  \"textBlock\": \"Uma barra que não fecha fora do range não é uma entrada (ex: barra 2).\",\n",
      "  \"galeryId\": null\n",
      "},{\n",
      "  \"textBlock\": \"Uma barra que fecha fora do range é uma entrada (ex: barra 4).\",\n",
      "  \"galeryId\": null\n",
      "}]\n"
     ]
    }
   ],
   "source": [
    "from multiprocessing import context\n",
    "from llama_index.core import SimpleDirectoryReader, VectorStoreIndex, Settings, Document\n",
    "from llama_index.embeddings.google_genai import GoogleGenAIEmbedding\n",
    "from llama_index.llms.google_genai import GoogleGenAI\n",
    "from llama_index.core.prompts import RichPromptTemplate\n",
    "from dotenv import load_dotenv\n",
    "import os\n",
    "\n",
    "load_dotenv()\n",
    "\n",
    "GOOGLE_API_KEY = os.getenv(\"GOOGLE_API_KEY\")\n",
    "\n",
    "Settings.api_key = GOOGLE_API_KEY\n",
    "Settings.embed_model = GoogleGenAIEmbedding(model_name=\"gemini-embedding-001\")\n",
    "Settings.llm = GoogleGenAI(\n",
    "    model=\"gemini-2.5-flash\",\n",
    "    temperature=0.0\n",
    ")\n",
    "\n",
    "# Define the custom system prompt\n",
    "custom_prompt = \"\"\"\n",
    "Sua tarefa é responder a perguntas sobre as estratégias de trading com base no contexto fornecido.\n",
    "Para cada resposta, forneça a galeria de fotos (galeryId) relevante no formato JSON.\n",
    "Não inclua markdown.\n",
    "Se a galeria não for mencionada no contexto, responda apenas com a informação textual.\n",
    "Formato de saída:\n",
    "[{\n",
    "  \"textBlock\": \"Sua resposta textual aqui.\",\n",
    "  \"galeryId\": <o ID da galeria relevante ou null>\n",
    "},{\n",
    "  \"textBlock\": \"Sua resposta textual aqui.\",\n",
    "  \"galeryId\": <o ID da galeria relevante ou null>\n",
    "},{\n",
    "  \"textBlock\": \"Sua resposta textual aqui.\",\n",
    "  \"galeryId\": <o ID da galeria relevante ou null>\n",
    "},]\n",
    "\n",
    "Context information is below.\n",
    "---------------------\n",
    "{{context_str}}\n",
    "---------------------\n",
    "Given the context information and not prior knowledge, answer the query.\n",
    "Query: {{query_str}}\n",
    "Answer: \n",
    "\"\"\"\n",
    "\n",
    "data = {\n",
    "    \"name\": \"Opening Range Breakout\",\n",
    "    \"description\": \"Trade de rompimento de range de abertura\",\n",
    "    \"content\": [\n",
    "        [{\"text\":\"1. Depois que fechar fora do range\", \"galeryId\": 1},\n",
    "        {\"text\":\"2. O range começa quando a maxima da barra anterior for maior que a barra atual. Como na barra 1. Ela marca o inicio do range. A barra 3 forma o segundo ponto do range, o de venda.\", \"galeryId\": 2},\n",
    "        {\"text\":\"3. Veja que a barra 2 não fechou fora do range portanto não é uma entrada\", \"galeryId\": None},\n",
    "        {\"text\":\"4. A barra 4 fechou fora, então é uma entrada.\", \"galeryId\": None}]\n",
    "    ]\n",
    "}\n",
    "\n",
    "strategy_text = \" \".join(\n",
    "    f'{item[\"text\"]} {{\"galeryId\":{item[\"galeryId\"] if item[\"galeryId\"] is not None else \"null\"}}}'\n",
    "    for sublist in data[\"content\"] for item in sublist\n",
    ")\n",
    "\n",
    "# Create a Document object\n",
    "strategy_document = Document(\n",
    "    text=strategy_text,\n",
    "    metadata={\n",
    "        \"name\": data[\"name\"],\n",
    "        \"description\": data[\"description\"]\n",
    "    }\n",
    ")\n",
    "\n",
    "# Create a VectorStoreIndex from the documents\n",
    "index = VectorStoreIndex.from_documents([strategy_document])\n",
    "\n",
    "# Use the custom system prompt when creating the query engine\n",
    "qa_prompt_tmpl = RichPromptTemplate(custom_prompt)\n",
    "query_engine = index.as_query_engine(text_qa_template=qa_prompt_tmpl)\n",
    "response = query_engine.query(\"Quais as regra do trade?\")\n",
    "print(response)"
   ]
  },
  {
   "cell_type": "code",
   "execution_count": 26,
   "id": "6e267e56",
   "metadata": {},
   "outputs": [
    {
     "name": "stdout",
     "output_type": "stream",
     "text": [
      "[{\n",
      "  \"textBlock\": \"O range começa quando a máxima da barra anterior for maior que a barra atual. A barra 1 marca o início do range, e a barra 3 forma o segundo ponto do range, o de venda.\",\n",
      "  \"galeryId\": 2\n",
      "},{\n",
      "  \"textBlock\": \"A entrada ocorre depois que a barra fechar fora do range.\",\n",
      "  \"galeryId\": 1\n",
      "},{\n",
      "  \"textBlock\": \"Por exemplo, a barra 2 não fechou fora do range, portanto não é uma entrada.\",\n",
      "  \"galeryId\": null\n",
      "},{\n",
      "  \"textBlock\": \"A barra 4 fechou fora, então é uma entrada.\",\n",
      "  \"galeryId\": null\n",
      "}]\n"
     ]
    }
   ],
   "source": [
    "print(response)"
   ]
  },
  {
   "cell_type": "code",
   "execution_count": 8,
   "id": "a59c42c9",
   "metadata": {},
   "outputs": [
    {
     "data": {
      "text/markdown": [
       "**Prompt Key**: response_synthesizer:text_qa_template<br>**Text:** <br>"
      ],
      "text/plain": [
       "<IPython.core.display.Markdown object>"
      ]
     },
     "metadata": {},
     "output_type": "display_data"
    },
    {
     "name": "stdout",
     "output_type": "stream",
     "text": [
      "Context information is below.\n",
      "---------------------\n",
      "{context_str}\n",
      "---------------------\n",
      "Given the context information and not prior knowledge, answer the query.\n",
      "Query: {query_str}\n",
      "Answer: \n"
     ]
    },
    {
     "data": {
      "text/markdown": [
       "<br><br>"
      ],
      "text/plain": [
       "<IPython.core.display.Markdown object>"
      ]
     },
     "metadata": {},
     "output_type": "display_data"
    },
    {
     "data": {
      "text/markdown": [
       "**Prompt Key**: response_synthesizer:refine_template<br>**Text:** <br>"
      ],
      "text/plain": [
       "<IPython.core.display.Markdown object>"
      ]
     },
     "metadata": {},
     "output_type": "display_data"
    },
    {
     "name": "stdout",
     "output_type": "stream",
     "text": [
      "The original query is as follows: {query_str}\n",
      "We have provided an existing answer: {existing_answer}\n",
      "We have the opportunity to refine the existing answer (only if needed) with some more context below.\n",
      "------------\n",
      "{context_msg}\n",
      "------------\n",
      "Given the new context, refine the original answer to better answer the query. If the context isn't useful, return the original answer.\n",
      "Refined Answer: \n"
     ]
    },
    {
     "data": {
      "text/markdown": [
       "<br><br>"
      ],
      "text/plain": [
       "<IPython.core.display.Markdown object>"
      ]
     },
     "metadata": {},
     "output_type": "display_data"
    }
   ],
   "source": [
    "\n",
    "from IPython.display import Markdown, display\n",
    "query_engine = index.as_query_engine()\n",
    "def display_prompt_dict(prompts_dict):\n",
    "    for k, p in prompts_dict.items():\n",
    "        text_md = f\"**Prompt Key**: {k}<br>\" f\"**Text:** <br>\"\n",
    "        display(Markdown(text_md))\n",
    "        print(p.get_template())\n",
    "        display(Markdown(\"<br><br>\"))\n",
    "display_prompt_dict(query_engine.get_prompts())"
   ]
  }
 ],
 "metadata": {
  "kernelspec": {
   "display_name": "playbook--NCxUMzo-py3.12",
   "language": "python",
   "name": "python3"
  },
  "language_info": {
   "codemirror_mode": {
    "name": "ipython",
    "version": 3
   },
   "file_extension": ".py",
   "mimetype": "text/x-python",
   "name": "python",
   "nbconvert_exporter": "python",
   "pygments_lexer": "ipython3",
   "version": "3.12.7"
  }
 },
 "nbformat": 4,
 "nbformat_minor": 5
}
